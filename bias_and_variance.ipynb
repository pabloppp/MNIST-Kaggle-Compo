{
 "cells": [
  {
   "cell_type": "code",
   "execution_count": 43,
   "metadata": {
    "collapsed": true
   },
   "outputs": [],
   "source": [
    "import numpy as np\n",
    "import pandas as pd\n",
    "import matplotlib.pyplot as plt\n",
    "import deep_nn as nn\n",
    "\n",
    "np.random.seed(999)"
   ]
  },
  {
   "cell_type": "markdown",
   "metadata": {},
   "source": [
    "Let's start by loading the code and separating it into 3 different data sets: train, dev and test"
   ]
  },
  {
   "cell_type": "code",
   "execution_count": 44,
   "metadata": {},
   "outputs": [
    {
     "name": "stdout",
     "output_type": "stream",
     "text": [
      "X shapes (784, 42000) (784, 2000) (784, 300) (784, 300)\nY shapes (10, 42000) (10, 2000) (10, 300) (10, 300)\n"
     ]
    }
   ],
   "source": [
    "data = pd.read_csv(\"train.csv\").as_matrix().T\n",
    "\n",
    "X = data[1:] / 255\n",
    "Y = np.eye(10)[data[:1].reshape(-1)].T\n",
    "\n",
    "X_train = X[:, :2000]\n",
    "Y_train = Y[:, :2000]\n",
    "\n",
    "X_dev = X[:, 2000:2300]\n",
    "Y_dev = Y[:, 2000:2300]\n",
    "\n",
    "X_test = X[:, 2300:2600]\n",
    "Y_test = Y[:, 2300:2600]\n",
    "\n",
    "print(\"X shapes\", X.shape, X_train.shape, X_dev.shape, X_test.shape)\n",
    "print(\"Y shapes\", Y.shape, Y_train.shape, Y_dev.shape, Y_test.shape)\n"
   ]
  },
  {
   "cell_type": "markdown",
   "metadata": {},
   "source": [
    "Let's now initialize our DNN parameters"
   ]
  },
  {
   "cell_type": "code",
   "execution_count": 68,
   "metadata": {},
   "outputs": [],
   "source": [
    "input_layer_dims = X.shape[0]\n",
    "output_layer_dims = Y.shape[0]\n",
    "\n",
    "parameters = nn.initialize_parameters([input_layer_dims, 400, 300, output_layer_dims])"
   ]
  },
  {
   "cell_type": "markdown",
   "metadata": {},
   "source": [
    "Let's train the model. Probably 200 iterations of the code will be enough to see some noticeable info "
   ]
  },
  {
   "cell_type": "code",
   "execution_count": 69,
   "metadata": {},
   "outputs": [],
   "source": [
    "train_costs = []\n",
    "train_accuracies = []\n",
    "\n",
    "dev_costs = []\n",
    "dev_accuracies = []\n",
    "\n",
    "learning_rate = 0.03"
   ]
  },
  {
   "cell_type": "code",
   "execution_count": 70,
   "metadata": {},
   "outputs": [
    {
     "name": "stdout",
     "output_type": "stream",
     "text": [
      "Costs after 0 iterations: 0.697201157205 0.691750184692\nAccuracies after 0 iterations: 0.083 0.08\n"
     ]
    },
    {
     "name": "stdout",
     "output_type": "stream",
     "text": [
      "Costs after 20 iterations: 0.58463628974 0.576471656607\nAccuracies after 20 iterations: 0.133 0.116666666667\n"
     ]
    },
    {
     "name": "stdout",
     "output_type": "stream",
     "text": [
      "Costs after 40 iterations: 0.334704360278 0.335375726564\nAccuracies after 40 iterations: 0.1185 0.0766666666667\n"
     ]
    },
    {
     "name": "stdout",
     "output_type": "stream",
     "text": [
      "Costs after 60 iterations: 0.332694953782 0.334333875495\nAccuracies after 60 iterations: 0.1185 0.0766666666667\n"
     ]
    },
    {
     "name": "stdout",
     "output_type": "stream",
     "text": [
      "Costs after 80 iterations: 0.332061265003 0.333737545914\nAccuracies after 80 iterations: 0.1185 0.0766666666667\n"
     ]
    },
    {
     "name": "stdout",
     "output_type": "stream",
     "text": [
      "Costs after 100 iterations: 0.331507929466 0.33314119938\nAccuracies after 100 iterations: 0.1185 0.0766666666667\n"
     ]
    },
    {
     "name": "stdout",
     "output_type": "stream",
     "text": [
      "Costs after 120 iterations: 0.330999514404 0.332586974407\nAccuracies after 120 iterations: 0.1185 0.0766666666667\n"
     ]
    },
    {
     "name": "stdout",
     "output_type": "stream",
     "text": [
      "Costs after 140 iterations: 0.330515135049 0.332063206664\nAccuracies after 140 iterations: 0.1185 0.0766666666667\n"
     ]
    },
    {
     "name": "stdout",
     "output_type": "stream",
     "text": [
      "Costs after 160 iterations: 0.330037002003 0.331552957276\nAccuracies after 160 iterations: 0.1185 0.0766666666667\n"
     ]
    },
    {
     "name": "stdout",
     "output_type": "stream",
     "text": [
      "Costs after 180 iterations: 0.329547575348 0.331037037314\nAccuracies after 180 iterations: 0.1185 0.0766666666667\n"
     ]
    }
   ],
   "source": [
    "for i in range(200):\n",
    "    # Training\n",
    "    AL, caches = nn.L_model_forward(X_train, parameters)\n",
    "    train_cost = nn.compute_cost(AL, Y_train)\n",
    "    train_costs.append(train_cost)\n",
    "    grads = nn.L_model_backward(AL, Y_train, caches)\n",
    "    parameters = nn.update_parameters(parameters, grads, learning_rate)\n",
    "\n",
    "    prediction = np.argmax(AL, axis=0).reshape(1, AL.shape[1])\n",
    "    expected = np.argmax(Y_train, axis=0).reshape(1, Y_train.shape[1])\n",
    "    train_accuracy = np.sum(prediction == expected) / prediction.shape[1]\n",
    "    train_accuracies.append(train_accuracy)\n",
    "\n",
    "    # Dev computing\n",
    "    dev_AL, dev_caches = nn.L_model_forward(X_dev, parameters)\n",
    "    dev_cost = nn.compute_cost(dev_AL, Y_dev)\n",
    "    dev_costs.append(dev_cost)\n",
    "\n",
    "    prediction = np.argmax(dev_AL, axis=0).reshape(1, dev_AL.shape[1])\n",
    "    expected = np.argmax(Y_dev, axis=0).reshape(1, Y_dev.shape[1])\n",
    "    dev_accuracy = np.sum(prediction == expected) / prediction.shape[1]\n",
    "    dev_accuracies.append(dev_accuracy)\n",
    "\n",
    "    if i % 20 == 0:\n",
    "        print(\"Costs after \" + str(i) + \" iterations:\", train_cost, dev_cost)\n",
    "        print(\"Accuracies after \" + str(i) + \" iterations:\", train_accuracy, dev_accuracy)\n"
   ]
  },
  {
   "cell_type": "code",
   "execution_count": 72,
   "metadata": {},
   "outputs": [
    {
     "data": {
      "image/png": "[encoded data removed]",
      "text/plain": [
       "<matplotlib.figure.Figure at 0x10f1c4ef0>"
      ]
     },
     "metadata": {},
     "output_type": "display_data"
    },
    {
     "data": {
      "image/png": "[encoded data removed]",
      "text/plain": [
       "<matplotlib.figure.Figure at 0x10f8bb160>"
      ]
     },
     "metadata": {},
     "output_type": "display_data"
    }
   ],
   "source": [
    "plt.figure()\n",
    "plt.plot(train_costs)  # plott cost fn\n",
    "plt.plot(dev_costs)\n",
    "plt.title(\"Cost\")\n",
    "plt.legend(['train', 'dev'])\n",
    "\n",
    "plt.figure()\n",
    "plt.plot(train_accuracies)  # plott cost fn\n",
    "plt.plot(dev_accuracies)\n",
    "plt.title(\"Accuracy\")\n",
    "plt.legend(['train', 'dev'])\n",
    "\n",
    "plt.show()"
   ]
  },
  {
   "cell_type": "code",
   "execution_count": null,
   "metadata": {},
   "outputs": [],
   "source": []
  }
 ],
 "metadata": {
  "kernelspec": {
   "display_name": "Python 2",
   "language": "python",
   "name": "python2"
  },
  "language_info": {
   "codemirror_mode": {
    "name": "ipython",
    "version": 2
   },
   "file_extension": ".py",
   "mimetype": "text/x-python",
   "name": "python",
   "nbconvert_exporter": "python",
   "pygments_lexer": "ipython2",
   "version": "2.7.6"
  }
 },
 "nbformat": 4,
 "nbformat_minor": 0
}
